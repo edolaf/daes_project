{
 "cells": [
  {
   "cell_type": "markdown",
   "id": "80564fb0-f591-4c4a-b3b0-9f8002a19cd9",
   "metadata": {
    "tags": []
   },
   "source": [
    "# Packages"
   ]
  },
  {
   "cell_type": "markdown",
   "id": "bf2678dd-d1d4-481d-9306-6d22649ae136",
   "metadata": {
    "tags": []
   },
   "source": [
    "# Functions and constants"
   ]
  },
  {
   "cell_type": "markdown",
   "id": "d2c4ad34-8172-45e6-b5f2-aa67ab4d0843",
   "metadata": {
    "tags": []
   },
   "source": [
    "# Read data"
   ]
  },
  {
   "cell_type": "markdown",
   "id": "5cf47db0-db88-4d30-977a-18093e24f842",
   "metadata": {
    "tags": []
   },
   "source": [
    "# Analysis"
   ]
  },
  {
   "cell_type": "markdown",
   "id": "1b041023-eab8-4976-b0ad-18268922c852",
   "metadata": {
    "tags": []
   },
   "source": [
    "# Plots"
   ]
  },
  {
   "cell_type": "code",
   "execution_count": null,
   "id": "d927014b-3729-4f11-86d8-6895b107c344",
   "metadata": {},
   "outputs": [],
   "source": []
  }
 ],
 "metadata": {
  "kernelspec": {
   "display_name": "Python 3 (ipykernel)",
   "language": "python",
   "name": "python3"
  },
  "language_info": {
   "codemirror_mode": {
    "name": "ipython",
    "version": 3
   },
   "file_extension": ".py",
   "mimetype": "text/x-python",
   "name": "python",
   "nbconvert_exporter": "python",
   "pygments_lexer": "ipython3",
   "version": "3.13.2"
  }
 },
 "nbformat": 4,
 "nbformat_minor": 5
}
