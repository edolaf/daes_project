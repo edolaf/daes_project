{
 "cells": [
  {
   "cell_type": "markdown",
   "id": "b9bbf83b-690f-4909-bca2-ccacfaa74011",
   "metadata": {},
   "source": [
    "# Calculating 99,9th percentile and number of events"
   ]
  },
  {
   "cell_type": "code",
   "execution_count": 1,
   "id": "c2ffdf55-66c6-45eb-879d-8ac93892d107",
   "metadata": {},
   "outputs": [
    {
     "name": "stdout",
     "output_type": "stream",
     "text": [
      "Processing AWS DIGI STAMET PADANG_STA5031_2015-2023.xlsx...\n",
      "Processing AWS HARAU_14063054_2015-2023.xlsx...\n",
      "Processing AAWS BALITBU SUMANI_STA3211_2015-2023.xlsx...\n",
      "Processing ARG SOLOK_STA0091_2015-2023.xlsx...\n",
      "Processing ARG SUNGAI LIMAU_150263_2015-2023.xlsx...\n",
      "Processing AAWS STAKLIM PADANG PARIAMAN_STA3205_2015-2023.xlsx...\n",
      "Processing AAWS GAW_STA3204_2015-2023.xlsx...\n",
      "Processing ARG AMPEK NAGARI_150144_2015-2023.xlsx...\n",
      "Processing ARG BATANG KAPAS_150265_2015-2023.xlsx...\n",
      "Processing ARG RAO PASAMAN_STA0090_2015-2023.xlsx...\n",
      "Processing ARG KAPUR IX_STA0260_2015-2023.xlsx...\n",
      "Processing AWS PASAMAN BARAT_160040_2015-2023.xlsx...\n",
      "Processing ARG SOLOK SELATAN_150266_2015-2023.xlsx...\n",
      "Processing ARG LINGGOSARI BAGANTI_150145_2015-2023.xlsx...\n",
      "Processing ARG SIJUNJUNG_150146_2015-2023.xlsx...\n",
      "Processing ARG SUNGAI DAREH_150147_2015-2023.xlsx...\n",
      "Processing ARG SMPK TANAH DATAR_STA3258_2015-2023.xlsx...\n",
      "Processing ARG SIPORA JAYA_150267_2015-2023.xlsx...\n",
      "Processing ARG GUGUAK_150264_2015-2023.xlsx...\n",
      "Processing AWS ALAHAN PANJANG_160011_2015-2023.xlsx...\n",
      "Results saved to /home/565/ef7927/research_project/percentile/percentile.csv\n"
     ]
    }
   ],
   "source": [
    "from pathlib import Path\n",
    "import pandas as pd\n",
    "\n",
    "# Define directories\n",
    "data_dir = Path(\"/home/565/ef7927/research_project/precipitation\")\n",
    "output_file = Path(\"/home/565/ef7927/research_project/percentile/percentile.csv\")\n",
    "\n",
    "# Find all Excel files in the directory\n",
    "xlsx_files = list(data_dir.glob(\"*.xlsx\"))\n",
    "\n",
    "results = []\n",
    "\n",
    "for file_path in xlsx_files:\n",
    "    print(f\"Processing {file_path.name}...\")\n",
    "    \n",
    "    # Read the Excel file\n",
    "    df = pd.read_excel(file_path)\n",
    "\n",
    "    # Ensure required columns exist\n",
    "    if {'rr', 'Nama Stasiun'}.issubset(df.columns):\n",
    "        station_name = df['Nama Stasiun'].iloc[0] \n",
    "        percentile_99_9 = round(df['rr'].quantile(0.999), 2)\n",
    "        exceed_count = (df['rr'] >= percentile_99_9).sum()\n",
    "        \n",
    "        results.append([station_name, percentile_99_9, exceed_count])\n",
    "\n",
    "# Create results DataFrame\n",
    "if results:\n",
    "    results_df = pd.DataFrame(results, columns=['Station', '99.9th Percentile', 'Number of Events'])\n",
    "    results_df.sort_values(by='Station', inplace=True)\n",
    "    results_df.to_csv(output_file, index=False)\n",
    "    print(f\"Results saved to {output_file}\")"
   ]
  },
  {
   "cell_type": "markdown",
   "id": "c4fefe45-a659-4f68-a721-0bdfc03f86f4",
   "metadata": {},
   "source": [
    "# Extracting events that equal and exceed the 99,9th percentile"
   ]
  },
  {
   "cell_type": "code",
   "execution_count": 2,
   "id": "802e34b7-63e6-4c82-abeb-26ce04b8cc09",
   "metadata": {},
   "outputs": [
    {
     "name": "stdout",
     "output_type": "stream",
     "text": [
      "Processing AWS DIGI STAMET PADANG_STA5031_2015-2023.xlsx...\n",
      "Filtered results saved to /home/565/ef7927/research_project/percentile/extreme_events/AWS DIGI STAMET PADANG_STA5031_2015-2023.csv\n",
      "Processing AWS HARAU_14063054_2015-2023.xlsx...\n",
      "Filtered results saved to /home/565/ef7927/research_project/percentile/extreme_events/AWS HARAU_14063054_2015-2023.csv\n",
      "Processing AAWS BALITBU SUMANI_STA3211_2015-2023.xlsx...\n",
      "Filtered results saved to /home/565/ef7927/research_project/percentile/extreme_events/AAWS BALITBU SUMANI_STA3211_2015-2023.csv\n",
      "Processing ARG SOLOK_STA0091_2015-2023.xlsx...\n",
      "Filtered results saved to /home/565/ef7927/research_project/percentile/extreme_events/ARG SOLOK_STA0091_2015-2023.csv\n",
      "Processing ARG SUNGAI LIMAU_150263_2015-2023.xlsx...\n",
      "Filtered results saved to /home/565/ef7927/research_project/percentile/extreme_events/ARG SUNGAI LIMAU_150263_2015-2023.csv\n",
      "Processing AAWS STAKLIM PADANG PARIAMAN_STA3205_2015-2023.xlsx...\n",
      "Filtered results saved to /home/565/ef7927/research_project/percentile/extreme_events/AAWS STAKLIM PADANG PARIAMAN_STA3205_2015-2023.csv\n",
      "Processing AAWS GAW_STA3204_2015-2023.xlsx...\n",
      "Filtered results saved to /home/565/ef7927/research_project/percentile/extreme_events/AAWS GAW_STA3204_2015-2023.csv\n",
      "Processing ARG AMPEK NAGARI_150144_2015-2023.xlsx...\n",
      "Filtered results saved to /home/565/ef7927/research_project/percentile/extreme_events/ARG AMPEK NAGARI_150144_2015-2023.csv\n",
      "Processing ARG BATANG KAPAS_150265_2015-2023.xlsx...\n",
      "Filtered results saved to /home/565/ef7927/research_project/percentile/extreme_events/ARG BATANG KAPAS_150265_2015-2023.csv\n",
      "Processing ARG RAO PASAMAN_STA0090_2015-2023.xlsx...\n",
      "Filtered results saved to /home/565/ef7927/research_project/percentile/extreme_events/ARG RAO PASAMAN_STA0090_2015-2023.csv\n",
      "Processing ARG KAPUR IX_STA0260_2015-2023.xlsx...\n",
      "Filtered results saved to /home/565/ef7927/research_project/percentile/extreme_events/ARG KAPUR IX_STA0260_2015-2023.csv\n",
      "Processing AWS PASAMAN BARAT_160040_2015-2023.xlsx...\n",
      "Filtered results saved to /home/565/ef7927/research_project/percentile/extreme_events/AWS PASAMAN BARAT_160040_2015-2023.csv\n",
      "Processing ARG SOLOK SELATAN_150266_2015-2023.xlsx...\n",
      "Filtered results saved to /home/565/ef7927/research_project/percentile/extreme_events/ARG SOLOK SELATAN_150266_2015-2023.csv\n",
      "Processing ARG LINGGOSARI BAGANTI_150145_2015-2023.xlsx...\n",
      "Filtered results saved to /home/565/ef7927/research_project/percentile/extreme_events/ARG LINGGOSARI BAGANTI_150145_2015-2023.csv\n",
      "Processing ARG SIJUNJUNG_150146_2015-2023.xlsx...\n",
      "Filtered results saved to /home/565/ef7927/research_project/percentile/extreme_events/ARG SIJUNJUNG_150146_2015-2023.csv\n",
      "Processing ARG SUNGAI DAREH_150147_2015-2023.xlsx...\n",
      "Filtered results saved to /home/565/ef7927/research_project/percentile/extreme_events/ARG SUNGAI DAREH_150147_2015-2023.csv\n",
      "Processing ARG SMPK TANAH DATAR_STA3258_2015-2023.xlsx...\n",
      "Filtered results saved to /home/565/ef7927/research_project/percentile/extreme_events/ARG SMPK TANAH DATAR_STA3258_2015-2023.csv\n",
      "Processing ARG SIPORA JAYA_150267_2015-2023.xlsx...\n",
      "Filtered results saved to /home/565/ef7927/research_project/percentile/extreme_events/ARG SIPORA JAYA_150267_2015-2023.csv\n",
      "Processing ARG GUGUAK_150264_2015-2023.xlsx...\n",
      "Filtered results saved to /home/565/ef7927/research_project/percentile/extreme_events/ARG GUGUAK_150264_2015-2023.csv\n",
      "Processing AWS ALAHAN PANJANG_160011_2015-2023.xlsx...\n",
      "Filtered results saved to /home/565/ef7927/research_project/percentile/extreme_events/AWS ALAHAN PANJANG_160011_2015-2023.csv\n"
     ]
    }
   ],
   "source": [
    "import pandas as pd\n",
    "import os\n",
    "\n",
    "# Define the directories\n",
    "xlsx_directory = \"/home/565/ef7927/research_project/precipitation/\"\n",
    "percentile_file = \"/home/565/ef7927/research_project/percentile/percentile.csv\"\n",
    "output_directory = \"/home/565/ef7927/research_project/percentile/extreme_events\"\n",
    "\n",
    "# Ensure output directory exists\n",
    "os.makedirs(output_directory, exist_ok=True)\n",
    "\n",
    "# Read the percentile CSV\n",
    "percentile_df = pd.read_csv(percentile_file)\n",
    "percentile_dict = dict(zip(percentile_df['Station'], percentile_df['99.9th Percentile']))\n",
    "\n",
    "# Get a list of all .xlsx files in the directory\n",
    "xlsx_files = [f for f in os.listdir(xlsx_directory) if f.endswith(\".xlsx\")]\n",
    "\n",
    "if not xlsx_files:\n",
    "    print(\"No Excel files found in the directory.\")\n",
    "else:\n",
    "    for file_name in xlsx_files:\n",
    "        file_path = os.path.join(xlsx_directory, file_name)\n",
    "        print(f\"Processing {file_name}...\")\n",
    "        \n",
    "        # Read the Excel file\n",
    "        df = pd.read_excel(file_path)\n",
    "        \n",
    "        if 'rr' in df.columns and 'Nama Stasiun' in df.columns:\n",
    "            station_name = df['Nama Stasiun'].iloc[0]  # Assuming station name is the same for all rows\n",
    "            if station_name in percentile_dict:\n",
    "                percentile_99_9 = percentile_dict[station_name]\n",
    "                \n",
    "                # Filter rows where 'rr' is >= 99.9th percentile and round 'rr' to 1 decimal place\n",
    "                df['rr'] = df['rr'].round(1)\n",
    "                filtered_df = df[df['rr'] >= percentile_99_9].sort_values(by='Tanggal')\n",
    "                \n",
    "                # Save to CSV in the specified output directory\n",
    "                output_csv = os.path.join(output_directory, f\"{os.path.splitext(file_name)[0]}.csv\")\n",
    "                filtered_df.to_csv(output_csv, index=False)\n",
    "                print(f\"Filtered results saved to {output_csv}\")\n",
    "            else:\n",
    "                print(f\"Skipping {file_name}: No matching station in percentile file.\")\n",
    "        else:\n",
    "            print(f\"Skipping {file_name}: Required columns missing.\")"
   ]
  },
  {
   "cell_type": "code",
   "execution_count": null,
   "id": "c77604bb-3728-4d53-8d8e-069648a287a0",
   "metadata": {},
   "outputs": [],
   "source": []
  }
 ],
 "metadata": {
  "kernelspec": {
   "display_name": "Python 3 (ipykernel)",
   "language": "python",
   "name": "python3"
  },
  "language_info": {
   "codemirror_mode": {
    "name": "ipython",
    "version": 3
   },
   "file_extension": ".py",
   "mimetype": "text/x-python",
   "name": "python",
   "nbconvert_exporter": "python",
   "pygments_lexer": "ipython3",
   "version": "3.13.2"
  }
 },
 "nbformat": 4,
 "nbformat_minor": 5
}
