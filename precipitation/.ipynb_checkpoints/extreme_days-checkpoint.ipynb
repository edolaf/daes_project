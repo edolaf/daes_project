{
 "cells": [
  {
   "cell_type": "markdown",
   "id": "80564fb0-f591-4c4a-b3b0-9f8002a19cd9",
   "metadata": {
    "tags": []
   },
   "source": [
    "# Packages"
   ]
  },
  {
   "cell_type": "code",
   "execution_count": 39,
   "id": "20de0d54-d97c-486a-8396-5a751ec2e371",
   "metadata": {},
   "outputs": [],
   "source": [
    "import os\n",
    "import glob\n",
    "import pandas as pd"
   ]
  },
  {
   "cell_type": "markdown",
   "id": "bf2678dd-d1d4-481d-9306-6d22649ae136",
   "metadata": {
    "tags": []
   },
   "source": [
    "# Functions and constants"
   ]
  },
  {
   "cell_type": "code",
   "execution_count": 40,
   "id": "77eff018-e200-4425-9441-e21977d0da49",
   "metadata": {},
   "outputs": [],
   "source": [
    "# Function to filter extreme rainfall events\n",
    "def filter_extreme_rainfall(file_path, output_dir):\n",
    "    # Read the Excel file\n",
    "    df = pd.read_csv(file_path)\n",
    "\n",
    "    # Ensure the required columns exist\n",
    "    required_columns = {\"date\", \"station\", \"rr\"}\n",
    "    if not required_columns.issubset(df.columns):\n",
    "        print(f\"⚠ Warning: Missing columns in {file_path}. Skipping this file.\")\n",
    "        return\n",
    "\n",
    "    # Filter data based on the station's threshold\n",
    "    df_filtered = df[df.apply(lambda row: row[\"rr\"] >= threshold_dict.get(row[\"station\"], float('inf')), axis=1)]\n",
    "\n",
    "    # Skip saving if no rows match\n",
    "    if df_filtered.empty:\n",
    "        print(f\"⚠ No extreme rainfall events found in {file_path}. Skipping save.\")\n",
    "        return\n",
    "\n",
    "    # Save the filtered data\n",
    "    output_file = os.path.join(output_dir, os.path.basename(file_path))  # Keep the same filename\n",
    "    df_filtered.to_csv(output_file, index=False)\n",
    "\n",
    "    print(f\"✅ Filtered data saved: {output_file}\")"
   ]
  },
  {
   "cell_type": "markdown",
   "id": "d2c4ad34-8172-45e6-b5f2-aa67ab4d0843",
   "metadata": {
    "tags": []
   },
   "source": [
    "# Read data"
   ]
  },
  {
   "cell_type": "code",
   "execution_count": 43,
   "id": "9e441684-a3df-4e83-920c-f1b8526b419d",
   "metadata": {},
   "outputs": [
    {
     "data": {
      "text/html": [
       "<div>\n",
       "<style scoped>\n",
       "    .dataframe tbody tr th:only-of-type {\n",
       "        vertical-align: middle;\n",
       "    }\n",
       "\n",
       "    .dataframe tbody tr th {\n",
       "        vertical-align: top;\n",
       "    }\n",
       "\n",
       "    .dataframe thead th {\n",
       "        text-align: right;\n",
       "    }\n",
       "</style>\n",
       "<table border=\"1\" class=\"dataframe\">\n",
       "  <thead>\n",
       "    <tr style=\"text-align: right;\">\n",
       "      <th></th>\n",
       "      <th>station</th>\n",
       "      <th>99.9th percentile</th>\n",
       "    </tr>\n",
       "  </thead>\n",
       "  <tbody>\n",
       "    <tr>\n",
       "      <th>0</th>\n",
       "      <td>AAWS Balitbu Sumani</td>\n",
       "      <td>4.1</td>\n",
       "    </tr>\n",
       "    <tr>\n",
       "      <th>1</th>\n",
       "      <td>AAWS GAW Bukit Kototabang</td>\n",
       "      <td>5.7</td>\n",
       "    </tr>\n",
       "    <tr>\n",
       "      <th>2</th>\n",
       "      <td>AAWS Harau (AWS )</td>\n",
       "      <td>6.2</td>\n",
       "    </tr>\n",
       "    <tr>\n",
       "      <th>3</th>\n",
       "      <td>AAWS Staklim Padang Pariaman</td>\n",
       "      <td>10.4</td>\n",
       "    </tr>\n",
       "    <tr>\n",
       "      <th>4</th>\n",
       "      <td>ARG Ampek Nagari</td>\n",
       "      <td>9.2</td>\n",
       "    </tr>\n",
       "    <tr>\n",
       "      <th>5</th>\n",
       "      <td>ARG Batang Kapas</td>\n",
       "      <td>7.6</td>\n",
       "    </tr>\n",
       "    <tr>\n",
       "      <th>6</th>\n",
       "      <td>ARG Guguak</td>\n",
       "      <td>6.6</td>\n",
       "    </tr>\n",
       "    <tr>\n",
       "      <th>7</th>\n",
       "      <td>ARG Kapur IX</td>\n",
       "      <td>10.2</td>\n",
       "    </tr>\n",
       "    <tr>\n",
       "      <th>8</th>\n",
       "      <td>ARG Linggosari Baganti</td>\n",
       "      <td>8.4</td>\n",
       "    </tr>\n",
       "    <tr>\n",
       "      <th>9</th>\n",
       "      <td>ARG Rao Pasaman</td>\n",
       "      <td>6.2</td>\n",
       "    </tr>\n",
       "    <tr>\n",
       "      <th>10</th>\n",
       "      <td>ARG SMPK Tanah Datar</td>\n",
       "      <td>6.6</td>\n",
       "    </tr>\n",
       "    <tr>\n",
       "      <th>11</th>\n",
       "      <td>ARG Sijunjung</td>\n",
       "      <td>6.8</td>\n",
       "    </tr>\n",
       "    <tr>\n",
       "      <th>12</th>\n",
       "      <td>ARG Sipora Jaya</td>\n",
       "      <td>8.2</td>\n",
       "    </tr>\n",
       "    <tr>\n",
       "      <th>13</th>\n",
       "      <td>ARG Solok</td>\n",
       "      <td>5.2</td>\n",
       "    </tr>\n",
       "    <tr>\n",
       "      <th>14</th>\n",
       "      <td>ARG Solok Selatan</td>\n",
       "      <td>8.8</td>\n",
       "    </tr>\n",
       "    <tr>\n",
       "      <th>15</th>\n",
       "      <td>ARG Sungai Dareh</td>\n",
       "      <td>7.6</td>\n",
       "    </tr>\n",
       "    <tr>\n",
       "      <th>16</th>\n",
       "      <td>ARG Sungai Limau</td>\n",
       "      <td>8.8</td>\n",
       "    </tr>\n",
       "    <tr>\n",
       "      <th>17</th>\n",
       "      <td>AWS Alahan Panjang</td>\n",
       "      <td>3.8</td>\n",
       "    </tr>\n",
       "    <tr>\n",
       "      <th>18</th>\n",
       "      <td>AWS Digi Stamet Padang</td>\n",
       "      <td>6.8</td>\n",
       "    </tr>\n",
       "    <tr>\n",
       "      <th>19</th>\n",
       "      <td>AWS Pasaman Barat</td>\n",
       "      <td>11.2</td>\n",
       "    </tr>\n",
       "  </tbody>\n",
       "</table>\n",
       "</div>"
      ],
      "text/plain": [
       "                         station  99.9th percentile\n",
       "0            AAWS Balitbu Sumani                4.1\n",
       "1      AAWS GAW Bukit Kototabang                5.7\n",
       "2              AAWS Harau (AWS )                6.2\n",
       "3   AAWS Staklim Padang Pariaman               10.4\n",
       "4               ARG Ampek Nagari                9.2\n",
       "5               ARG Batang Kapas                7.6\n",
       "6                     ARG Guguak                6.6\n",
       "7                   ARG Kapur IX               10.2\n",
       "8         ARG Linggosari Baganti                8.4\n",
       "9                ARG Rao Pasaman                6.2\n",
       "10          ARG SMPK Tanah Datar                6.6\n",
       "11                 ARG Sijunjung                6.8\n",
       "12               ARG Sipora Jaya                8.2\n",
       "13                     ARG Solok                5.2\n",
       "14             ARG Solok Selatan                8.8\n",
       "15              ARG Sungai Dareh                7.6\n",
       "16              ARG Sungai Limau                8.8\n",
       "17            AWS Alahan Panjang                3.8\n",
       "18        AWS Digi Stamet Padang                6.8\n",
       "19             AWS Pasaman Barat               11.2"
      ]
     },
     "execution_count": 43,
     "metadata": {},
     "output_type": "execute_result"
    }
   ],
   "source": [
    "# Define folder paths\n",
    "path = \"/Users/edolatamafebrinal/Library/CloudStorage/OneDrive-MonashUniversity/Study@Monash/Semester 3/Data Analysis in Earth Sciences/github/daes_project/precipitation/\"\n",
    "input_dir = os.path.join(path, \"10m_precipitation\")  # Directory with rainfall data\n",
    "output_dir = os.path.join(path, \"extreme_days\")  # Directory to save filtered data\n",
    "threshold_file = os.path.join(path, \"percentile.csv\")  # Threshold file\n",
    "\n",
    "# Ensure output directory exists\n",
    "if not os.path.exists(output_dir):\n",
    "    os.makedirs(output_dir)\n",
    "\n",
    "# Load 99.9th percentile threshold data\n",
    "threshold_df = pd.read_csv(threshold_file)\n",
    "threshold_df"
   ]
  },
  {
   "cell_type": "markdown",
   "id": "5cf47db0-db88-4d30-977a-18093e24f842",
   "metadata": {
    "tags": []
   },
   "source": [
    "# Analysis"
   ]
  },
  {
   "cell_type": "code",
   "execution_count": 44,
   "id": "65c229d7-1a90-44d2-93ec-b11bc1d546f7",
   "metadata": {},
   "outputs": [
    {
     "name": "stdout",
     "output_type": "stream",
     "text": [
      "✅ Filtered data saved: /Users/edolatamafebrinal/Library/CloudStorage/OneDrive-MonashUniversity/Study@Monash/Semester 3/Data Analysis in Earth Sciences/github/daes_project/precipitation/extreme_days/AWS PASAMAN BARAT_160040_2015-2023.csv\n",
      "✅ Filtered data saved: /Users/edolatamafebrinal/Library/CloudStorage/OneDrive-MonashUniversity/Study@Monash/Semester 3/Data Analysis in Earth Sciences/github/daes_project/precipitation/extreme_days/ARG LINGGOSARI BAGANTI_150145_2015-2023.csv\n",
      "✅ Filtered data saved: /Users/edolatamafebrinal/Library/CloudStorage/OneDrive-MonashUniversity/Study@Monash/Semester 3/Data Analysis in Earth Sciences/github/daes_project/precipitation/extreme_days/ARG SMPK TANAH DATAR_STA3258_2015-2023.csv\n",
      "✅ Filtered data saved: /Users/edolatamafebrinal/Library/CloudStorage/OneDrive-MonashUniversity/Study@Monash/Semester 3/Data Analysis in Earth Sciences/github/daes_project/precipitation/extreme_days/ARG SOLOK_STA0091_2015-2023.csv\n",
      "✅ Filtered data saved: /Users/edolatamafebrinal/Library/CloudStorage/OneDrive-MonashUniversity/Study@Monash/Semester 3/Data Analysis in Earth Sciences/github/daes_project/precipitation/extreme_days/AWS ALAHAN PANJANG_160011_2015-2023.csv\n",
      "✅ Filtered data saved: /Users/edolatamafebrinal/Library/CloudStorage/OneDrive-MonashUniversity/Study@Monash/Semester 3/Data Analysis in Earth Sciences/github/daes_project/precipitation/extreme_days/ARG SIJUNJUNG_150146_2015-2023.csv\n",
      "✅ Filtered data saved: /Users/edolatamafebrinal/Library/CloudStorage/OneDrive-MonashUniversity/Study@Monash/Semester 3/Data Analysis in Earth Sciences/github/daes_project/precipitation/extreme_days/AWS DIGI STAMET PADANG_STA5031_2015-2023.csv\n",
      "✅ Filtered data saved: /Users/edolatamafebrinal/Library/CloudStorage/OneDrive-MonashUniversity/Study@Monash/Semester 3/Data Analysis in Earth Sciences/github/daes_project/precipitation/extreme_days/AAWS GAW_STA3204_2015-2023.csv\n",
      "✅ Filtered data saved: /Users/edolatamafebrinal/Library/CloudStorage/OneDrive-MonashUniversity/Study@Monash/Semester 3/Data Analysis in Earth Sciences/github/daes_project/precipitation/extreme_days/ARG KAPUR IX_STA0260_2015-2023.csv\n",
      "✅ Filtered data saved: /Users/edolatamafebrinal/Library/CloudStorage/OneDrive-MonashUniversity/Study@Monash/Semester 3/Data Analysis in Earth Sciences/github/daes_project/precipitation/extreme_days/AAWS BALITBU SUMANI_STA3211_2015-2023.csv\n",
      "✅ Filtered data saved: /Users/edolatamafebrinal/Library/CloudStorage/OneDrive-MonashUniversity/Study@Monash/Semester 3/Data Analysis in Earth Sciences/github/daes_project/precipitation/extreme_days/ARG AMPEK NAGARI_150144_2015-2023.csv\n",
      "✅ Filtered data saved: /Users/edolatamafebrinal/Library/CloudStorage/OneDrive-MonashUniversity/Study@Monash/Semester 3/Data Analysis in Earth Sciences/github/daes_project/precipitation/extreme_days/ARG SUNGAI LIMAU_150263_2015-2023.csv\n",
      "✅ Filtered data saved: /Users/edolatamafebrinal/Library/CloudStorage/OneDrive-MonashUniversity/Study@Monash/Semester 3/Data Analysis in Earth Sciences/github/daes_project/precipitation/extreme_days/AAWS STAKLIM PADANG PARIAMAN_STA3205_2015-2023.csv\n",
      "✅ Filtered data saved: /Users/edolatamafebrinal/Library/CloudStorage/OneDrive-MonashUniversity/Study@Monash/Semester 3/Data Analysis in Earth Sciences/github/daes_project/precipitation/extreme_days/ARG SIPORA JAYA_150267_2015-2023.csv\n",
      "✅ Filtered data saved: /Users/edolatamafebrinal/Library/CloudStorage/OneDrive-MonashUniversity/Study@Monash/Semester 3/Data Analysis in Earth Sciences/github/daes_project/precipitation/extreme_days/ARG RAO PASAMAN_STA0090_2015-2023.csv\n",
      "✅ Filtered data saved: /Users/edolatamafebrinal/Library/CloudStorage/OneDrive-MonashUniversity/Study@Monash/Semester 3/Data Analysis in Earth Sciences/github/daes_project/precipitation/extreme_days/ARG SOLOK SELATAN_150266_2015-2023.csv\n",
      "✅ Filtered data saved: /Users/edolatamafebrinal/Library/CloudStorage/OneDrive-MonashUniversity/Study@Monash/Semester 3/Data Analysis in Earth Sciences/github/daes_project/precipitation/extreme_days/ARG SUNGAI DAREH_150147_2015-2023.csv\n",
      "✅ Filtered data saved: /Users/edolatamafebrinal/Library/CloudStorage/OneDrive-MonashUniversity/Study@Monash/Semester 3/Data Analysis in Earth Sciences/github/daes_project/precipitation/extreme_days/AWS HARAU_14063054_2015-2023.csv\n",
      "✅ Filtered data saved: /Users/edolatamafebrinal/Library/CloudStorage/OneDrive-MonashUniversity/Study@Monash/Semester 3/Data Analysis in Earth Sciences/github/daes_project/precipitation/extreme_days/ARG BATANG KAPAS_150265_2015-2023.csv\n",
      "✅ Filtered data saved: /Users/edolatamafebrinal/Library/CloudStorage/OneDrive-MonashUniversity/Study@Monash/Semester 3/Data Analysis in Earth Sciences/github/daes_project/precipitation/extreme_days/ARG GUGUAK_150264_2015-2023.csv\n",
      "🚀 Processing complete! All extreme rainfall events have been saved.\n"
     ]
    }
   ],
   "source": [
    "# Convert stations to a dictionary for easy lookup\n",
    "threshold_dict = dict(zip(threshold_df[\"station\"], threshold_df[\"99.9th percentile\"]))\n",
    "\n",
    "\n",
    "# Process each file in the input directory\n",
    "for file_name in os.listdir(input_dir):\n",
    "    if file_name.endswith('.csv'):  # Ensure we only process Excel files\n",
    "        file_path = os.path.join(input_dir, file_name)\n",
    "        filter_extreme_rainfall(file_path, output_dir)\n",
    "\n",
    "print(\"🚀 Processing complete! All extreme rainfall events have been saved.\")"
   ]
  },
  {
   "cell_type": "markdown",
   "id": "1b041023-eab8-4976-b0ad-18268922c852",
   "metadata": {
    "tags": []
   },
   "source": [
    "# Plots"
   ]
  },
  {
   "cell_type": "code",
   "execution_count": null,
   "id": "d927014b-3729-4f11-86d8-6895b107c344",
   "metadata": {},
   "outputs": [],
   "source": []
  }
 ],
 "metadata": {
  "kernelspec": {
   "display_name": "Python 3 (ipykernel)",
   "language": "python",
   "name": "python3"
  },
  "language_info": {
   "codemirror_mode": {
    "name": "ipython",
    "version": 3
   },
   "file_extension": ".py",
   "mimetype": "text/x-python",
   "name": "python",
   "nbconvert_exporter": "python",
   "pygments_lexer": "ipython3",
   "version": "3.13.2"
  }
 },
 "nbformat": 4,
 "nbformat_minor": 5
}
