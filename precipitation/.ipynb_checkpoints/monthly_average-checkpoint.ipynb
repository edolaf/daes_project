{
 "cells": [
  {
   "cell_type": "markdown",
   "id": "80564fb0-f591-4c4a-b3b0-9f8002a19cd9",
   "metadata": {
    "tags": []
   },
   "source": [
    "# Packages"
   ]
  },
  {
   "cell_type": "code",
   "execution_count": 16,
   "id": "0fdb141b-5887-4e54-a6fc-19207db0eb26",
   "metadata": {},
   "outputs": [],
   "source": [
    "import os\n",
    "import pandas as pd"
   ]
  },
  {
   "cell_type": "markdown",
   "id": "bf2678dd-d1d4-481d-9306-6d22649ae136",
   "metadata": {
    "tags": []
   },
   "source": [
    "# Functions and constants"
   ]
  },
  {
   "cell_type": "code",
   "execution_count": null,
   "id": "69790509-9c34-4cc0-ae50-da820811f3b4",
   "metadata": {},
   "outputs": [],
   "source": []
  },
  {
   "cell_type": "markdown",
   "id": "d2c4ad34-8172-45e6-b5f2-aa67ab4d0843",
   "metadata": {
    "tags": []
   },
   "source": [
    "# Read data"
   ]
  },
  {
   "cell_type": "code",
   "execution_count": 17,
   "id": "e160bc41-a5dc-40ca-9882-dcfdf0643ffa",
   "metadata": {},
   "outputs": [],
   "source": [
    "# Define the input directory\n",
    "input_dir = \"/Users/edolatamafebrinal/Library/CloudStorage/OneDrive-MonashUniversity/Study@Monash/Semester 3/Data Analysis in Earth Sciences/github/daes_project/precipitation/extreme_days\""
   ]
  },
  {
   "cell_type": "markdown",
   "id": "5cf47db0-db88-4d30-977a-18093e24f842",
   "metadata": {
    "tags": []
   },
   "source": [
    "# Analysis"
   ]
  },
  {
   "cell_type": "code",
   "execution_count": 18,
   "id": "98544dc7-184f-45de-a127-c08eb35ea567",
   "metadata": {},
   "outputs": [
    {
     "name": "stdout",
     "output_type": "stream",
     "text": [
      "Processing complete! Monthly averages saved to: /Users/edolatamafebrinal/Library/CloudStorage/OneDrive-MonashUniversity/Study@Monash/Semester 3/Data Analysis in Earth Sciences/github/daes_project/precipitation/monthly_average.csv\n"
     ]
    }
   ],
   "source": [
    "# Initialize an empty DataFrame to store combined data\n",
    "all_data = pd.DataFrame()\n",
    "\n",
    "# Loop through all CSV files in the directory\n",
    "for filename in os.listdir(input_dir):\n",
    "    if filename.endswith('.csv'):  # Process only CSV files\n",
    "        file_path = os.path.join(input_dir, filename)\n",
    "        \n",
    "        try:\n",
    "            # Read the CSV file\n",
    "            df = pd.read_csv(file_path)\n",
    "\n",
    "            # Check if required columns exist\n",
    "            if 'date' in df.columns and 'rr' in df.columns:\n",
    "                # Convert 'date' column to datetime format\n",
    "                df['date'] = pd.to_datetime(df['date'])\n",
    "\n",
    "                # Extract month (as MM format)\n",
    "                df['Month'] = df['date'].dt.strftime('%m')  \n",
    "\n",
    "                # Append data\n",
    "                all_data = pd.concat([all_data, df[['Month', 'rr']]], ignore_index=True)\n",
    "            else:\n",
    "                print(f\"Skipping {filename}: Missing 'date' or 'rr' column.\")\n",
    "        \n",
    "        except Exception as e:\n",
    "            print(f\"Error reading {filename}: {e}\")\n",
    "\n",
    "# Compute the average 'rr' grouped by 'Month' (across all years)\n",
    "if not all_data.empty:\n",
    "    monthly_avg_rr = all_data.groupby('Month', as_index=False)['rr'].mean()\n",
    "\n",
    "    # Save the result to a CSV file in the script's directory\n",
    "    monthly_avg_rr.to_csv(\"monthly_average.csv\", index=False)\n",
    "\n",
    "    print(\"Processing complete! Monthly averages saved to:\", os.path.abspath(\"monthly_average.csv\"))\n",
    "else:\n",
    "    print(\"No valid data found in input files.\")"
   ]
  },
  {
   "cell_type": "markdown",
   "id": "1b041023-eab8-4976-b0ad-18268922c852",
   "metadata": {
    "tags": []
   },
   "source": [
    "# Plots"
   ]
  },
  {
   "cell_type": "code",
   "execution_count": null,
   "id": "d927014b-3729-4f11-86d8-6895b107c344",
   "metadata": {},
   "outputs": [],
   "source": [
    "\n"
   ]
  },
  {
   "cell_type": "code",
   "execution_count": null,
   "id": "9a51d043-9a90-4256-be7a-61b634b0ea5a",
   "metadata": {},
   "outputs": [],
   "source": []
  }
 ],
 "metadata": {
  "kernelspec": {
   "display_name": "Python 3 (ipykernel)",
   "language": "python",
   "name": "python3"
  },
  "language_info": {
   "codemirror_mode": {
    "name": "ipython",
    "version": 3
   },
   "file_extension": ".py",
   "mimetype": "text/x-python",
   "name": "python",
   "nbconvert_exporter": "python",
   "pygments_lexer": "ipython3",
   "version": "3.13.2"
  }
 },
 "nbformat": 4,
 "nbformat_minor": 5
}
