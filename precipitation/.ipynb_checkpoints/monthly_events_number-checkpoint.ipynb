{
 "cells": [
  {
   "cell_type": "markdown",
   "id": "80564fb0-f591-4c4a-b3b0-9f8002a19cd9",
   "metadata": {
    "tags": []
   },
   "source": [
    "# Packages"
   ]
  },
  {
   "cell_type": "code",
   "execution_count": 1,
   "id": "e7839a99-edb2-4ccb-800a-e8dc06df7d46",
   "metadata": {},
   "outputs": [],
   "source": [
    "import os\n",
    "import glob\n",
    "import pandas as pd"
   ]
  },
  {
   "cell_type": "markdown",
   "id": "bf2678dd-d1d4-481d-9306-6d22649ae136",
   "metadata": {
    "tags": []
   },
   "source": [
    "# Functions and constants"
   ]
  },
  {
   "cell_type": "markdown",
   "id": "d2c4ad34-8172-45e6-b5f2-aa67ab4d0843",
   "metadata": {
    "tags": []
   },
   "source": [
    "# Read data"
   ]
  },
  {
   "cell_type": "code",
   "execution_count": 8,
   "id": "807ee6f5-e3be-468d-9917-663172a8d939",
   "metadata": {},
   "outputs": [],
   "source": [
    "# Define the input directory\n",
    "path = \"/Users/edolatamafebrinal/Library/CloudStorage/OneDrive-MonashUniversity/Study@Monash/Semester 3/Data Analysis in Earth Sciences/github/daes_project/precipitation/\"\n",
    "\n",
    "# Define folder paths\n",
    "input_dir = os.path.join(path, \"extreme_days\")  # Directory with filtered rainfall data\n",
    "output_dir = os.path.join(path, \"event_number\")  # Directory to save results\n",
    "output_file = os.path.join(output_dir, \"monthly_event_number.csv\")  # Output file path\n",
    "\n",
    "# Ensure output directory exists\n",
    "if not os.path.exists(output_dir):\n",
    "    os.makedirs(output_dir)"
   ]
  },
  {
   "cell_type": "markdown",
   "id": "5cf47db0-db88-4d30-977a-18093e24f842",
   "metadata": {
    "tags": []
   },
   "source": [
    "# Analysis"
   ]
  },
  {
   "cell_type": "code",
   "execution_count": 11,
   "id": "393ea6f4-6902-4ca1-97ba-431afb7fa496",
   "metadata": {},
   "outputs": [
    {
     "name": "stdout",
     "output_type": "stream",
     "text": [
      "✅ Monthly events number saved: /Users/edolatamafebrinal/Library/CloudStorage/OneDrive-MonashUniversity/Study@Monash/Semester 3/Data Analysis in Earth Sciences/github/daes_project/precipitation/event_number/monthly_event_number.csv\n"
     ]
    }
   ],
   "source": [
    "# Initialize an empty dictionary to store counts per station\n",
    "monthly_counts = {}\n",
    "\n",
    "# Iterate through each file in extreme_days (filtered extreme events)\n",
    "for file_name in os.listdir(input_dir):\n",
    "    if file_name.endswith('.csv'):  # Ensure only Excel files are processed\n",
    "        file_path = os.path.join(input_dir, file_name)\n",
    "        df = pd.read_csv(file_path)\n",
    "\n",
    "        # Ensure necessary columns exist\n",
    "        if {\"date\", \"station\", \"rr\"}.issubset(df.columns):\n",
    "            # Extract station name from the file\n",
    "            station_name = df[\"station\"].iloc[0]\n",
    "\n",
    "            # Convert 'Tanggal' to datetime format & extract **only month (MM)**\n",
    "            df[\"Month\"] = pd.to_datetime(df[\"date\"]).dt.strftime('%m')  # '01' to '12'\n",
    "\n",
    "            # Count occurrences per month (ignoring year)\n",
    "            month_counts = df.groupby(\"Month\")[\"rr\"].count()\n",
    "\n",
    "            # Store in dictionary (each station as a column)\n",
    "            monthly_counts[station_name] = month_counts\n",
    "        else:\n",
    "            print(f\"⚠ Warning: Missing columns in {file_name}. Skipping.\")\n",
    "\n",
    "# Convert dictionary to DataFrame & fill missing months with 0\n",
    "df_monthly = pd.DataFrame(monthly_counts).fillna(0)\n",
    "\n",
    "# Add \"Monthly Events Number\" (sum across stations)\n",
    "df_monthly[\"Monthly Event Number\"] = df_monthly.sum(axis=1)\n",
    "\n",
    "# Reset index to make 'Month' the first column\n",
    "df_monthly.reset_index(inplace=True)\n",
    "df_monthly.rename(columns={\"index\": \"Month\"}, inplace=True)\n",
    "\n",
    "# Ensure months are sorted correctly\n",
    "df_monthly = df_monthly.sort_values(by=\"Month\").reset_index(drop=True)\n",
    "\n",
    "# Save to Excel\n",
    "df_monthly.to_csv(output_file, index=False)\n",
    "\n",
    "print(f\"✅ Monthly events number saved: {output_file}\")"
   ]
  },
  {
   "cell_type": "markdown",
   "id": "1b041023-eab8-4976-b0ad-18268922c852",
   "metadata": {
    "tags": []
   },
   "source": [
    "# Plots"
   ]
  },
  {
   "cell_type": "code",
   "execution_count": null,
   "id": "d927014b-3729-4f11-86d8-6895b107c344",
   "metadata": {},
   "outputs": [],
   "source": []
  }
 ],
 "metadata": {
  "kernelspec": {
   "display_name": "Python 3 (ipykernel)",
   "language": "python",
   "name": "python3"
  },
  "language_info": {
   "codemirror_mode": {
    "name": "ipython",
    "version": 3
   },
   "file_extension": ".py",
   "mimetype": "text/x-python",
   "name": "python",
   "nbconvert_exporter": "python",
   "pygments_lexer": "ipython3",
   "version": "3.13.2"
  }
 },
 "nbformat": 4,
 "nbformat_minor": 5
}
