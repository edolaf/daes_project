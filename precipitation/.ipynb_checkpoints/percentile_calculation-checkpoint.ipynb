{
 "cells": [
  {
   "cell_type": "markdown",
   "id": "80564fb0-f591-4c4a-b3b0-9f8002a19cd9",
   "metadata": {
    "tags": []
   },
   "source": [
    "# Packages"
   ]
  },
  {
   "cell_type": "code",
   "execution_count": 5,
   "id": "97a59e96-9be1-47a6-8502-2e9c15175d2d",
   "metadata": {},
   "outputs": [],
   "source": [
    "import glob\n",
    "import os\n",
    "import pandas as pd"
   ]
  },
  {
   "cell_type": "markdown",
   "id": "bf2678dd-d1d4-481d-9306-6d22649ae136",
   "metadata": {
    "tags": []
   },
   "source": [
    "# Functions and constants"
   ]
  },
  {
   "cell_type": "code",
   "execution_count": null,
   "id": "ae455d8f-01e8-4689-a05b-88148ffbbc13",
   "metadata": {},
   "outputs": [],
   "source": []
  },
  {
   "cell_type": "markdown",
   "id": "d2c4ad34-8172-45e6-b5f2-aa67ab4d0843",
   "metadata": {
    "tags": []
   },
   "source": [
    "# Read data"
   ]
  },
  {
   "cell_type": "code",
   "execution_count": 6,
   "id": "ef748c1e-4f5e-4a61-bacd-fd368b1dfc0c",
   "metadata": {},
   "outputs": [
    {
     "data": {
      "text/plain": [
       "['/Users/edolatamafebrinal/Library/CloudStorage/OneDrive-MonashUniversity/Study@Monash/Semester 3/Data Analysis in Earth Sciences/github/daes_project/precipitation/10m_precipitation/AWS PASAMAN BARAT_160040_2015-2023.csv',\n",
       " '/Users/edolatamafebrinal/Library/CloudStorage/OneDrive-MonashUniversity/Study@Monash/Semester 3/Data Analysis in Earth Sciences/github/daes_project/precipitation/10m_precipitation/ARG LINGGOSARI BAGANTI_150145_2015-2023.csv',\n",
       " '/Users/edolatamafebrinal/Library/CloudStorage/OneDrive-MonashUniversity/Study@Monash/Semester 3/Data Analysis in Earth Sciences/github/daes_project/precipitation/10m_precipitation/ARG SMPK TANAH DATAR_STA3258_2015-2023.csv',\n",
       " '/Users/edolatamafebrinal/Library/CloudStorage/OneDrive-MonashUniversity/Study@Monash/Semester 3/Data Analysis in Earth Sciences/github/daes_project/precipitation/10m_precipitation/ARG SOLOK_STA0091_2015-2023.csv',\n",
       " '/Users/edolatamafebrinal/Library/CloudStorage/OneDrive-MonashUniversity/Study@Monash/Semester 3/Data Analysis in Earth Sciences/github/daes_project/precipitation/10m_precipitation/AWS ALAHAN PANJANG_160011_2015-2023.csv',\n",
       " '/Users/edolatamafebrinal/Library/CloudStorage/OneDrive-MonashUniversity/Study@Monash/Semester 3/Data Analysis in Earth Sciences/github/daes_project/precipitation/10m_precipitation/ARG SIJUNJUNG_150146_2015-2023.csv',\n",
       " '/Users/edolatamafebrinal/Library/CloudStorage/OneDrive-MonashUniversity/Study@Monash/Semester 3/Data Analysis in Earth Sciences/github/daes_project/precipitation/10m_precipitation/AWS DIGI STAMET PADANG_STA5031_2015-2023.csv',\n",
       " '/Users/edolatamafebrinal/Library/CloudStorage/OneDrive-MonashUniversity/Study@Monash/Semester 3/Data Analysis in Earth Sciences/github/daes_project/precipitation/10m_precipitation/AAWS GAW_STA3204_2015-2023.csv',\n",
       " '/Users/edolatamafebrinal/Library/CloudStorage/OneDrive-MonashUniversity/Study@Monash/Semester 3/Data Analysis in Earth Sciences/github/daes_project/precipitation/10m_precipitation/ARG KAPUR IX_STA0260_2015-2023.csv',\n",
       " '/Users/edolatamafebrinal/Library/CloudStorage/OneDrive-MonashUniversity/Study@Monash/Semester 3/Data Analysis in Earth Sciences/github/daes_project/precipitation/10m_precipitation/AAWS BALITBU SUMANI_STA3211_2015-2023.csv',\n",
       " '/Users/edolatamafebrinal/Library/CloudStorage/OneDrive-MonashUniversity/Study@Monash/Semester 3/Data Analysis in Earth Sciences/github/daes_project/precipitation/10m_precipitation/ARG AMPEK NAGARI_150144_2015-2023.csv',\n",
       " '/Users/edolatamafebrinal/Library/CloudStorage/OneDrive-MonashUniversity/Study@Monash/Semester 3/Data Analysis in Earth Sciences/github/daes_project/precipitation/10m_precipitation/ARG SUNGAI LIMAU_150263_2015-2023.csv',\n",
       " '/Users/edolatamafebrinal/Library/CloudStorage/OneDrive-MonashUniversity/Study@Monash/Semester 3/Data Analysis in Earth Sciences/github/daes_project/precipitation/10m_precipitation/AAWS STAKLIM PADANG PARIAMAN_STA3205_2015-2023.csv',\n",
       " '/Users/edolatamafebrinal/Library/CloudStorage/OneDrive-MonashUniversity/Study@Monash/Semester 3/Data Analysis in Earth Sciences/github/daes_project/precipitation/10m_precipitation/ARG SIPORA JAYA_150267_2015-2023.csv',\n",
       " '/Users/edolatamafebrinal/Library/CloudStorage/OneDrive-MonashUniversity/Study@Monash/Semester 3/Data Analysis in Earth Sciences/github/daes_project/precipitation/10m_precipitation/ARG RAO PASAMAN_STA0090_2015-2023.csv',\n",
       " '/Users/edolatamafebrinal/Library/CloudStorage/OneDrive-MonashUniversity/Study@Monash/Semester 3/Data Analysis in Earth Sciences/github/daes_project/precipitation/10m_precipitation/ARG SOLOK SELATAN_150266_2015-2023.csv',\n",
       " '/Users/edolatamafebrinal/Library/CloudStorage/OneDrive-MonashUniversity/Study@Monash/Semester 3/Data Analysis in Earth Sciences/github/daes_project/precipitation/10m_precipitation/ARG SUNGAI DAREH_150147_2015-2023.csv',\n",
       " '/Users/edolatamafebrinal/Library/CloudStorage/OneDrive-MonashUniversity/Study@Monash/Semester 3/Data Analysis in Earth Sciences/github/daes_project/precipitation/10m_precipitation/AWS HARAU_14063054_2015-2023.csv',\n",
       " '/Users/edolatamafebrinal/Library/CloudStorage/OneDrive-MonashUniversity/Study@Monash/Semester 3/Data Analysis in Earth Sciences/github/daes_project/precipitation/10m_precipitation/ARG BATANG KAPAS_150265_2015-2023.csv',\n",
       " '/Users/edolatamafebrinal/Library/CloudStorage/OneDrive-MonashUniversity/Study@Monash/Semester 3/Data Analysis in Earth Sciences/github/daes_project/precipitation/10m_precipitation/ARG GUGUAK_150264_2015-2023.csv']"
      ]
     },
     "execution_count": 6,
     "metadata": {},
     "output_type": "execute_result"
    }
   ],
   "source": [
    "# Define new directory inside the current working directory\n",
    "input_dir = os.path.join(os.getcwd(), \"10m_precipitation\")\n",
    "\n",
    "# Find all Excel files\n",
    "xlsx_files = glob.glob(f\"{input_dir}/*.csv\")\n",
    "\n",
    "xlsx_files"
   ]
  },
  {
   "cell_type": "markdown",
   "id": "5cf47db0-db88-4d30-977a-18093e24f842",
   "metadata": {
    "tags": []
   },
   "source": [
    "# Analysis"
   ]
  },
  {
   "cell_type": "code",
   "execution_count": 7,
   "id": "fb993916-3062-4b39-ab64-f4c863510dea",
   "metadata": {},
   "outputs": [
    {
     "name": "stdout",
     "output_type": "stream",
     "text": [
      "Processing: /Users/edolatamafebrinal/Library/CloudStorage/OneDrive-MonashUniversity/Study@Monash/Semester 3/Data Analysis in Earth Sciences/github/daes_project/precipitation/10m_precipitation/AWS PASAMAN BARAT_160040_2015-2023.csv\n",
      "Processing: /Users/edolatamafebrinal/Library/CloudStorage/OneDrive-MonashUniversity/Study@Monash/Semester 3/Data Analysis in Earth Sciences/github/daes_project/precipitation/10m_precipitation/ARG LINGGOSARI BAGANTI_150145_2015-2023.csv\n",
      "Processing: /Users/edolatamafebrinal/Library/CloudStorage/OneDrive-MonashUniversity/Study@Monash/Semester 3/Data Analysis in Earth Sciences/github/daes_project/precipitation/10m_precipitation/ARG SMPK TANAH DATAR_STA3258_2015-2023.csv\n",
      "Processing: /Users/edolatamafebrinal/Library/CloudStorage/OneDrive-MonashUniversity/Study@Monash/Semester 3/Data Analysis in Earth Sciences/github/daes_project/precipitation/10m_precipitation/ARG SOLOK_STA0091_2015-2023.csv\n",
      "Processing: /Users/edolatamafebrinal/Library/CloudStorage/OneDrive-MonashUniversity/Study@Monash/Semester 3/Data Analysis in Earth Sciences/github/daes_project/precipitation/10m_precipitation/AWS ALAHAN PANJANG_160011_2015-2023.csv\n",
      "Processing: /Users/edolatamafebrinal/Library/CloudStorage/OneDrive-MonashUniversity/Study@Monash/Semester 3/Data Analysis in Earth Sciences/github/daes_project/precipitation/10m_precipitation/ARG SIJUNJUNG_150146_2015-2023.csv\n",
      "Processing: /Users/edolatamafebrinal/Library/CloudStorage/OneDrive-MonashUniversity/Study@Monash/Semester 3/Data Analysis in Earth Sciences/github/daes_project/precipitation/10m_precipitation/AWS DIGI STAMET PADANG_STA5031_2015-2023.csv\n",
      "Processing: /Users/edolatamafebrinal/Library/CloudStorage/OneDrive-MonashUniversity/Study@Monash/Semester 3/Data Analysis in Earth Sciences/github/daes_project/precipitation/10m_precipitation/AAWS GAW_STA3204_2015-2023.csv\n",
      "Processing: /Users/edolatamafebrinal/Library/CloudStorage/OneDrive-MonashUniversity/Study@Monash/Semester 3/Data Analysis in Earth Sciences/github/daes_project/precipitation/10m_precipitation/ARG KAPUR IX_STA0260_2015-2023.csv\n",
      "Processing: /Users/edolatamafebrinal/Library/CloudStorage/OneDrive-MonashUniversity/Study@Monash/Semester 3/Data Analysis in Earth Sciences/github/daes_project/precipitation/10m_precipitation/AAWS BALITBU SUMANI_STA3211_2015-2023.csv\n",
      "Processing: /Users/edolatamafebrinal/Library/CloudStorage/OneDrive-MonashUniversity/Study@Monash/Semester 3/Data Analysis in Earth Sciences/github/daes_project/precipitation/10m_precipitation/ARG AMPEK NAGARI_150144_2015-2023.csv\n",
      "Processing: /Users/edolatamafebrinal/Library/CloudStorage/OneDrive-MonashUniversity/Study@Monash/Semester 3/Data Analysis in Earth Sciences/github/daes_project/precipitation/10m_precipitation/ARG SUNGAI LIMAU_150263_2015-2023.csv\n",
      "Processing: /Users/edolatamafebrinal/Library/CloudStorage/OneDrive-MonashUniversity/Study@Monash/Semester 3/Data Analysis in Earth Sciences/github/daes_project/precipitation/10m_precipitation/AAWS STAKLIM PADANG PARIAMAN_STA3205_2015-2023.csv\n",
      "Processing: /Users/edolatamafebrinal/Library/CloudStorage/OneDrive-MonashUniversity/Study@Monash/Semester 3/Data Analysis in Earth Sciences/github/daes_project/precipitation/10m_precipitation/ARG SIPORA JAYA_150267_2015-2023.csv\n",
      "Processing: /Users/edolatamafebrinal/Library/CloudStorage/OneDrive-MonashUniversity/Study@Monash/Semester 3/Data Analysis in Earth Sciences/github/daes_project/precipitation/10m_precipitation/ARG RAO PASAMAN_STA0090_2015-2023.csv\n",
      "Processing: /Users/edolatamafebrinal/Library/CloudStorage/OneDrive-MonashUniversity/Study@Monash/Semester 3/Data Analysis in Earth Sciences/github/daes_project/precipitation/10m_precipitation/ARG SOLOK SELATAN_150266_2015-2023.csv\n",
      "Processing: /Users/edolatamafebrinal/Library/CloudStorage/OneDrive-MonashUniversity/Study@Monash/Semester 3/Data Analysis in Earth Sciences/github/daes_project/precipitation/10m_precipitation/ARG SUNGAI DAREH_150147_2015-2023.csv\n",
      "Processing: /Users/edolatamafebrinal/Library/CloudStorage/OneDrive-MonashUniversity/Study@Monash/Semester 3/Data Analysis in Earth Sciences/github/daes_project/precipitation/10m_precipitation/AWS HARAU_14063054_2015-2023.csv\n",
      "Processing: /Users/edolatamafebrinal/Library/CloudStorage/OneDrive-MonashUniversity/Study@Monash/Semester 3/Data Analysis in Earth Sciences/github/daes_project/precipitation/10m_precipitation/ARG BATANG KAPAS_150265_2015-2023.csv\n",
      "Processing: /Users/edolatamafebrinal/Library/CloudStorage/OneDrive-MonashUniversity/Study@Monash/Semester 3/Data Analysis in Earth Sciences/github/daes_project/precipitation/10m_precipitation/ARG GUGUAK_150264_2015-2023.csv\n",
      "Results saved to percentile.csv\n"
     ]
    }
   ],
   "source": [
    "results = []\n",
    "\n",
    "for file_path in xlsx_files:\n",
    "    print(f\"Processing: {file_path}\")\n",
    "\n",
    "    # Read the Excel file\n",
    "    df = pd.read_csv(file_path)\n",
    "\n",
    "    # Ensure required columns exist\n",
    "    if {'rr', 'station'}.issubset(df.columns):\n",
    "        station_name = df['station'].iloc[0] \n",
    "        percentile_99_9 = round(df['rr'].quantile(0.999), 2)\n",
    "        results.append([station_name, percentile_99_9])\n",
    "    else:\n",
    "        print(f\"Skipping {file_path}: Missing required columns.\")\n",
    "\n",
    "# Save results if there is data\n",
    "if results:\n",
    "    results_df = pd.DataFrame(results, columns=['station', '99.9th percentile'])\n",
    "    results_df.sort_values(by='station', inplace=True)\n",
    "\n",
    "    # Define output file path inside a new subdirectory\n",
    "    output_file = os.path.join(\"percentile.csv\")\n",
    "\n",
    "    results_df.to_csv(output_file, index=False)\n",
    "    print(f\"Results saved to {output_file}\")"
   ]
  },
  {
   "cell_type": "markdown",
   "id": "47ae151b-2514-41d4-8697-efd0b5f31187",
   "metadata": {},
   "source": [
    "# Plots"
   ]
  },
  {
   "cell_type": "code",
   "execution_count": null,
   "id": "1f2e313e-4d64-41a3-aad0-ed62531dadcf",
   "metadata": {},
   "outputs": [],
   "source": []
  }
 ],
 "metadata": {
  "kernelspec": {
   "display_name": "Python 3 (ipykernel)",
   "language": "python",
   "name": "python3"
  },
  "language_info": {
   "codemirror_mode": {
    "name": "ipython",
    "version": 3
   },
   "file_extension": ".py",
   "mimetype": "text/x-python",
   "name": "python",
   "nbconvert_exporter": "python",
   "pygments_lexer": "ipython3",
   "version": "3.13.2"
  }
 },
 "nbformat": 4,
 "nbformat_minor": 5
}
