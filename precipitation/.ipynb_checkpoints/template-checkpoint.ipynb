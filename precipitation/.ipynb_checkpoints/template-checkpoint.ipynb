{
 "cells": [
  {
   "cell_type": "markdown",
   "id": "80564fb0-f591-4c4a-b3b0-9f8002a19cd9",
   "metadata": {
    "tags": []
   },
   "source": [
    "# Packages"
   ]
  },
  {
   "cell_type": "code",
   "execution_count": 95,
   "id": "24861db7-0ef0-42c9-86fd-2139ecf474ea",
   "metadata": {},
   "outputs": [],
   "source": [
    "import pandas as pd\n",
    "import os\n",
    "import glob\n",
    "import numpy as np\n",
    "import matplotlib.pyplot as plt \n",
    "from matplotlib.ticker import MaxNLocator"
   ]
  },
  {
   "cell_type": "markdown",
   "id": "bf2678dd-d1d4-481d-9306-6d22649ae136",
   "metadata": {
    "tags": []
   },
   "source": [
    "# Functions and constants"
   ]
  },
  {
   "cell_type": "code",
   "execution_count": 96,
   "id": "38756d85-c6a1-47fd-aeda-a63159a7fdf8",
   "metadata": {},
   "outputs": [],
   "source": [
    "def daily_from_10m(input_dir, output_dir):\n",
    "    os.makedirs(output_dir, exist_ok=True)\n",
    "\n",
    "    for filename in os.listdir(input_dir):\n",
    "        if filename.endswith(\".csv\"):\n",
    "            # Read the CSV file\n",
    "            df = pd.read_csv(os.path.join(input_dir, filename), parse_dates=True)\n",
    "\n",
    "            # Ensure that 'station' column contains full station names and strip any extra spaces\n",
    "            df['station'] = df['station'].astype(str).str.strip()  # Convert to string and remove extra spaces\n",
    "            # Check for potential long names and preserve them as is\n",
    "            print(f\"Unique station names: {df['station'].unique()}\")  # Debugging line, remove if not needed\n",
    "\n",
    "            # Set 'date' column as index for resampling\n",
    "            df['date'] = pd.to_datetime(df['date'], errors='coerce')\n",
    "            df.set_index('date', inplace=True)\n",
    "\n",
    "            # Resample data to daily sum, keeping the 'station' column\n",
    "            data_df = df.resample(\"D\").sum()\n",
    "\n",
    "            # Add back the first 'station' name for the whole DataFrame\n",
    "            data_df['station'] = df['station'].iloc[0]  # Assuming the 'station' is the same for each row in the file\n",
    "\n",
    "            # Save to output directory\n",
    "            output_path = os.path.join(output_dir, f\"{os.path.splitext(filename)[0]}_daily.csv\")\n",
    "            data_df.to_csv(output_path)\n",
    "\n",
    "    print(\"Conversion Completed!! ✅\")\n",
    "\n",
    "def compute_percentile(csv_files):\n",
    "    \"\"\"Compute the 99.9th percentile of 'rr' for each station from given CSV files.\"\"\"\n",
    "    results = []\n",
    "\n",
    "    for file_path in csv_files:\n",
    "        try:\n",
    "            df = pd.read_csv(file_path, usecols=['rr', 'station'])\n",
    "            station_name = df['station'].iloc[0]\n",
    "            percentile_99_9 = round(df['rr'].quantile(0.999), 2)\n",
    "            results.append([station_name, percentile_99_9])\n",
    "        except Exception as e:\n",
    "            print(f\"Skipping {file_path}: {e}\")\n",
    "\n",
    "    return (\n",
    "    pd.DataFrame(results, columns=['station', '99.9th percentile'])\n",
    "    .sort_values(by='station')\n",
    "    .reset_index(drop=True)) if results else pd.DataFrame()\n",
    "\n",
    "# Function to filter extreme rainfall events\n",
    "def filter_extreme_rainfall(file_path, threshold_dict):\n",
    "    \"\"\"Filter extreme rainfall events based on station-specific thresholds.\"\"\"\n",
    "    df = pd.read_csv(file_path, usecols=[\"date\", \"station\", \"rr\"])  # Read only necessary columns\n",
    "    \n",
    "    # Filter data where 'rr' is greater than or equal to the station's threshold\n",
    "    df_filtered = df[df[\"rr\"] >= df[\"station\"]\n",
    "    .map(threshold_dict)\n",
    "    .fillna(float('inf'))]\n",
    "    \n",
    "    return df_filtered if not df_filtered.empty else None  # Return None if no extreme events\n",
    "\n",
    "# monthly average\n",
    "def compute_monthly_average(input_dir):\n",
    "    # Initialize an empty DataFrame to store combined data\n",
    "    all_data = pd.DataFrame()\n",
    "\n",
    "    # Loop through all CSV files in the directory\n",
    "    for filename in os.listdir(input_dir):\n",
    "        if filename.endswith('.csv'):  # Process only CSV files\n",
    "            file_path = os.path.join(input_dir, filename)\n",
    "\n",
    "            try:\n",
    "                # Read the CSV file\n",
    "                df = pd.read_csv(file_path)\n",
    "\n",
    "                # Check if required columns exist\n",
    "                if 'date' in df.columns and 'rr' in df.columns:\n",
    "                    # Convert 'date' column to datetime format\n",
    "                    df['date'] = pd.to_datetime(df['date'])\n",
    "\n",
    "                    # Extract month (as MM format)\n",
    "                    df['Month'] = df['date'].dt.strftime('%m')\n",
    "\n",
    "                    # Append data\n",
    "                    all_data = pd.concat([all_data, df[['Month', 'rr']]], ignore_index=True)\n",
    "                else:\n",
    "                    print(f\"Skipping {filename}: Missing 'date' or 'rr' column.\")\n",
    "            \n",
    "            except Exception as e:\n",
    "                print(f\"Error reading {filename}: {e}\")\n",
    "\n",
    "    # Compute the average 'rr' grouped by 'Month' (across all years)\n",
    "    if not all_data.empty:\n",
    "        monthly_avg_rr = all_data.groupby('Month', as_index=False)['rr'].mean()\n",
    "        return monthly_avg_rr\n",
    "    else:\n",
    "        print(\"No valid data found in input files.\")\n",
    "        return None"
   ]
  },
  {
   "cell_type": "markdown",
   "id": "d2c4ad34-8172-45e6-b5f2-aa67ab4d0843",
   "metadata": {
    "tags": []
   },
   "source": [
    "# Read data"
   ]
  },
  {
   "cell_type": "code",
   "execution_count": 97,
   "id": "e0efcdfb-089b-4f2f-9c57-e03c164146ca",
   "metadata": {},
   "outputs": [],
   "source": [
    "# 10 menit precipitation\n",
    "input_dir = os.path.join(os.getcwd(), \"10m_precipitation\")\n",
    "output_dir = os.path.join(os.getcwd(), \"daily\")\n",
    "csv_files = glob.glob(f\"{input_dir}/*.csv\")\n",
    "\n",
    "\n",
    "threshold_file = \"percentile.csv\"  # Threshold file"
   ]
  },
  {
   "cell_type": "markdown",
   "id": "5cf47db0-db88-4d30-977a-18093e24f842",
   "metadata": {
    "tags": []
   },
   "source": [
    "# Analysis"
   ]
  },
  {
   "cell_type": "code",
   "execution_count": 98,
   "id": "90a299ab-c5f1-49f6-949f-d0b3f581f9a9",
   "metadata": {},
   "outputs": [
    {
     "name": "stdout",
     "output_type": "stream",
     "text": [
      "Unique station names: ['AWS Pasaman Barat' 'nan']\n",
      "Unique station names: ['ARG Linggosari Baganti' 'nan']\n",
      "Unique station names: ['ARG SMPK Tanah Datar']\n",
      "Unique station names: ['ARG Solok' 'nan']\n",
      "Unique station names: ['AWS Alahan Panjang' 'nan']\n",
      "Unique station names: ['ARG Sijunjung' 'nan']\n",
      "Unique station names: ['AWS Digi Stamet Padang' 'nan']\n",
      "Unique station names: ['AAWS GAW Bukit Kototabang']\n",
      "Unique station names: ['ARG Kapur IX' 'nan']\n",
      "Unique station names: ['AAWS Balitbu Sumani']\n",
      "Unique station names: ['ARG Ampek Nagari' 'nan']\n",
      "Unique station names: ['ARG Sungai Limau' 'nan']\n"
     ]
    },
    {
     "name": "stderr",
     "output_type": "stream",
     "text": [
      "/var/folders/__/vwb4x4l93bq3yjz591y0z7yw0000gn/T/ipykernel_48317/1998627686.py:15: UserWarning: Could not infer format, so each element will be parsed individually, falling back to `dateutil`. To ensure parsing is consistent and as-expected, please specify a format.\n",
      "  df['date'] = pd.to_datetime(df['date'], errors='coerce')\n"
     ]
    },
    {
     "name": "stdout",
     "output_type": "stream",
     "text": [
      "Unique station names: ['AAWS Staklim Padang Pariaman' 'nan']\n",
      "Unique station names: ['ARG Sipora Jaya' 'nan']\n",
      "Unique station names: ['ARG Rao Pasaman' 'nan']\n",
      "Unique station names: ['ARG Solok Selatan' 'nan']\n",
      "Unique station names: ['ARG Sungai Dareh' 'nan']\n",
      "Unique station names: ['AAWS Harau (AWS )' 'nan']\n",
      "Unique station names: ['ARG Batang Kapas' 'nan']\n",
      "Unique station names: ['ARG Guguak' 'nan']\n",
      "Conversion Completed!! ✅\n"
     ]
    }
   ],
   "source": [
    "daily_from_10m(input_dir, output_dir)"
   ]
  },
  {
   "cell_type": "code",
   "execution_count": 99,
   "id": "a2f8c0e1-9459-49a6-ba7a-d56f931034dd",
   "metadata": {},
   "outputs": [
    {
     "name": "stdout",
     "output_type": "stream",
     "text": [
      "                         station  99.9th percentile\n",
      "0            AAWS Balitbu Sumani                4.1\n",
      "1      AAWS GAW Bukit Kototabang                5.7\n",
      "2              AAWS Harau (AWS )                6.2\n",
      "3   AAWS Staklim Padang Pariaman               10.4\n",
      "4               ARG Ampek Nagari                9.2\n",
      "5               ARG Batang Kapas                7.6\n",
      "6                     ARG Guguak                6.6\n",
      "7                   ARG Kapur IX               10.2\n",
      "8         ARG Linggosari Baganti                8.4\n",
      "9                ARG Rao Pasaman                6.2\n",
      "10          ARG SMPK Tanah Datar                6.6\n",
      "11                 ARG Sijunjung                6.8\n",
      "12               ARG Sipora Jaya                8.2\n",
      "13                     ARG Solok                5.2\n",
      "14             ARG Solok Selatan                8.8\n",
      "15              ARG Sungai Dareh                7.6\n",
      "16              ARG Sungai Limau                8.8\n",
      "17            AWS Alahan Panjang                3.8\n",
      "18        AWS Digi Stamet Padang                6.8\n",
      "19             AWS Pasaman Barat               11.2\n"
     ]
    }
   ],
   "source": [
    "# Example usage\n",
    "df_percentile = compute_percentile(csv_files)\n",
    "print(df_percentile)  # Just to verify the output"
   ]
  },
  {
   "cell_type": "code",
   "execution_count": 100,
   "id": "a1f4a14a-3baa-4ab0-bbe4-8def263acc56",
   "metadata": {
    "scrolled": true
   },
   "outputs": [
    {
     "data": {
      "text/html": [
       "<div>\n",
       "<style scoped>\n",
       "    .dataframe tbody tr th:only-of-type {\n",
       "        vertical-align: middle;\n",
       "    }\n",
       "\n",
       "    .dataframe tbody tr th {\n",
       "        vertical-align: top;\n",
       "    }\n",
       "\n",
       "    .dataframe thead th {\n",
       "        text-align: right;\n",
       "    }\n",
       "</style>\n",
       "<table border=\"1\" class=\"dataframe\">\n",
       "  <thead>\n",
       "    <tr style=\"text-align: right;\">\n",
       "      <th></th>\n",
       "      <th>date</th>\n",
       "      <th>station</th>\n",
       "      <th>rr</th>\n",
       "    </tr>\n",
       "  </thead>\n",
       "  <tbody>\n",
       "    <tr>\n",
       "      <th>0</th>\n",
       "      <td>2017-10-29 11:20:00</td>\n",
       "      <td>AWS Pasaman Barat</td>\n",
       "      <td>13.2</td>\n",
       "    </tr>\n",
       "    <tr>\n",
       "      <th>1</th>\n",
       "      <td>2017-10-31 08:40:00</td>\n",
       "      <td>AWS Pasaman Barat</td>\n",
       "      <td>13.2</td>\n",
       "    </tr>\n",
       "    <tr>\n",
       "      <th>2</th>\n",
       "      <td>2017-11-01 08:30:00</td>\n",
       "      <td>AWS Pasaman Barat</td>\n",
       "      <td>14.6</td>\n",
       "    </tr>\n",
       "    <tr>\n",
       "      <th>3</th>\n",
       "      <td>2017-11-01 08:40:00</td>\n",
       "      <td>AWS Pasaman Barat</td>\n",
       "      <td>17.6</td>\n",
       "    </tr>\n",
       "    <tr>\n",
       "      <th>4</th>\n",
       "      <td>2017-11-01 08:50:00</td>\n",
       "      <td>AWS Pasaman Barat</td>\n",
       "      <td>12.8</td>\n",
       "    </tr>\n",
       "    <tr>\n",
       "      <th>...</th>\n",
       "      <td>...</td>\n",
       "      <td>...</td>\n",
       "      <td>...</td>\n",
       "    </tr>\n",
       "    <tr>\n",
       "      <th>5817</th>\n",
       "      <td>2023-11-16 09:30:00</td>\n",
       "      <td>ARG Guguak</td>\n",
       "      <td>12.0</td>\n",
       "    </tr>\n",
       "    <tr>\n",
       "      <th>5818</th>\n",
       "      <td>2023-11-16 09:40:00</td>\n",
       "      <td>ARG Guguak</td>\n",
       "      <td>7.6</td>\n",
       "    </tr>\n",
       "    <tr>\n",
       "      <th>5819</th>\n",
       "      <td>2023-11-30 15:50:00</td>\n",
       "      <td>ARG Guguak</td>\n",
       "      <td>7.8</td>\n",
       "    </tr>\n",
       "    <tr>\n",
       "      <th>5820</th>\n",
       "      <td>2023-12-16 09:40:00</td>\n",
       "      <td>ARG Guguak</td>\n",
       "      <td>7.4</td>\n",
       "    </tr>\n",
       "    <tr>\n",
       "      <th>5821</th>\n",
       "      <td>2023-12-20 10:20:00</td>\n",
       "      <td>ARG Guguak</td>\n",
       "      <td>9.6</td>\n",
       "    </tr>\n",
       "  </tbody>\n",
       "</table>\n",
       "<p>5822 rows × 3 columns</p>\n",
       "</div>"
      ],
      "text/plain": [
       "                     date            station    rr\n",
       "0     2017-10-29 11:20:00  AWS Pasaman Barat  13.2\n",
       "1     2017-10-31 08:40:00  AWS Pasaman Barat  13.2\n",
       "2     2017-11-01 08:30:00  AWS Pasaman Barat  14.6\n",
       "3     2017-11-01 08:40:00  AWS Pasaman Barat  17.6\n",
       "4     2017-11-01 08:50:00  AWS Pasaman Barat  12.8\n",
       "...                   ...                ...   ...\n",
       "5817  2023-11-16 09:30:00         ARG Guguak  12.0\n",
       "5818  2023-11-16 09:40:00         ARG Guguak   7.6\n",
       "5819  2023-11-30 15:50:00         ARG Guguak   7.8\n",
       "5820  2023-12-16 09:40:00         ARG Guguak   7.4\n",
       "5821  2023-12-20 10:20:00         ARG Guguak   9.6\n",
       "\n",
       "[5822 rows x 3 columns]"
      ]
     },
     "execution_count": 100,
     "metadata": {},
     "output_type": "execute_result"
    }
   ],
   "source": [
    "# Initialize an empty list to store results from all files\n",
    "all_results = []\n",
    "\n",
    "# Convert 'df_percentile' DataFrame to a dictionary for easy lookup\n",
    "threshold_dict = df_percentile.set_index(\"station\")[\"99.9th percentile\"].to_dict()\n",
    "\n",
    "# Process each file in the input directory\n",
    "for file_name in os.listdir(input_dir):\n",
    "    if file_name.endswith('.csv'):  # Ensure we only process CSV files\n",
    "        file_path = os.path.join(input_dir, file_name)\n",
    "        result = filter_extreme_rainfall(file_path, threshold_dict)\n",
    "\n",
    "        # If extreme rainfall events exist, append the result\n",
    "        if result is not None:\n",
    "            all_results.append(result)\n",
    "\n",
    "extreme_events = pd.concat(all_results, ignore_index=True)\n",
    "extreme_events"
   ]
  },
  {
   "cell_type": "code",
   "execution_count": 104,
   "id": "a4ee7da5-c276-49a1-b88b-9b5f8a066a96",
   "metadata": {},
   "outputs": [
    {
     "name": "stdout",
     "output_type": "stream",
     "text": [
      "Warning: There are 312 invalid date entries that were converted to NaT.\n",
      "   Month  events_count\n",
      "0     01           380\n",
      "1     02           339\n",
      "2     03           598\n",
      "3     04           496\n",
      "4     05           483\n",
      "5     06           512\n",
      "6     07           405\n",
      "7     08           441\n",
      "8     09           369\n",
      "9     10           423\n",
      "10    11           544\n",
      "11    12           520\n"
     ]
    }
   ],
   "source": [
    "# Approach 1: Let pandas infer the format (using errors='coerce' to handle invalid formats)\n",
    "extreme_events['date'] = pd.to_datetime(extreme_events['date'], errors='coerce')\n",
    "\n",
    "# Check for any invalid date entries (NaT values)\n",
    "invalid_dates = extreme_events['date'].isna().sum()\n",
    "if invalid_dates > 0:\n",
    "    print(f\"Warning: There are {invalid_dates} invalid date entries that were converted to NaT.\")\n",
    "\n",
    "# Extract month (as 2-digit format) from 'date' to create a new column for grouping\n",
    "extreme_events['Month'] = extreme_events['date'].dt.strftime('%m')  \n",
    "\n",
    "# Group by 'Month' and count the occurrences of events (i.e., rows)\n",
    "events_per_month = extreme_events.groupby('Month').size().reset_index(name='events_count')\n",
    "\n",
    "# Display the result\n",
    "print(events_per_month)"
   ]
  },
  {
   "cell_type": "code",
   "execution_count": 105,
   "id": "fab20225-4043-4d23-9968-526ccb49a413",
   "metadata": {},
   "outputs": [
    {
     "data": {
      "text/html": [
       "<div>\n",
       "<style scoped>\n",
       "    .dataframe tbody tr th:only-of-type {\n",
       "        vertical-align: middle;\n",
       "    }\n",
       "\n",
       "    .dataframe tbody tr th {\n",
       "        vertical-align: top;\n",
       "    }\n",
       "\n",
       "    .dataframe thead th {\n",
       "        text-align: right;\n",
       "    }\n",
       "</style>\n",
       "<table border=\"1\" class=\"dataframe\">\n",
       "  <thead>\n",
       "    <tr style=\"text-align: right;\">\n",
       "      <th></th>\n",
       "      <th>Month</th>\n",
       "      <th>rr</th>\n",
       "    </tr>\n",
       "  </thead>\n",
       "  <tbody>\n",
       "    <tr>\n",
       "      <th>0</th>\n",
       "      <td>01</td>\n",
       "      <td>4.814577</td>\n",
       "    </tr>\n",
       "    <tr>\n",
       "      <th>1</th>\n",
       "      <td>02</td>\n",
       "      <td>4.366120</td>\n",
       "    </tr>\n",
       "    <tr>\n",
       "      <th>2</th>\n",
       "      <td>03</td>\n",
       "      <td>6.046193</td>\n",
       "    </tr>\n",
       "    <tr>\n",
       "      <th>3</th>\n",
       "      <td>04</td>\n",
       "      <td>5.345147</td>\n",
       "    </tr>\n",
       "    <tr>\n",
       "      <th>4</th>\n",
       "      <td>05</td>\n",
       "      <td>4.698376</td>\n",
       "    </tr>\n",
       "    <tr>\n",
       "      <th>5</th>\n",
       "      <td>06</td>\n",
       "      <td>4.986871</td>\n",
       "    </tr>\n",
       "    <tr>\n",
       "      <th>6</th>\n",
       "      <td>07</td>\n",
       "      <td>4.046259</td>\n",
       "    </tr>\n",
       "    <tr>\n",
       "      <th>7</th>\n",
       "      <td>08</td>\n",
       "      <td>5.089401</td>\n",
       "    </tr>\n",
       "    <tr>\n",
       "      <th>8</th>\n",
       "      <td>09</td>\n",
       "      <td>4.661297</td>\n",
       "    </tr>\n",
       "    <tr>\n",
       "      <th>9</th>\n",
       "      <td>10</td>\n",
       "      <td>5.110150</td>\n",
       "    </tr>\n",
       "    <tr>\n",
       "      <th>10</th>\n",
       "      <td>11</td>\n",
       "      <td>6.750551</td>\n",
       "    </tr>\n",
       "    <tr>\n",
       "      <th>11</th>\n",
       "      <td>12</td>\n",
       "      <td>6.735291</td>\n",
       "    </tr>\n",
       "  </tbody>\n",
       "</table>\n",
       "</div>"
      ],
      "text/plain": [
       "   Month        rr\n",
       "0     01  4.814577\n",
       "1     02  4.366120\n",
       "2     03  6.046193\n",
       "3     04  5.345147\n",
       "4     05  4.698376\n",
       "5     06  4.986871\n",
       "6     07  4.046259\n",
       "7     08  5.089401\n",
       "8     09  4.661297\n",
       "9     10  5.110150\n",
       "10    11  6.750551\n",
       "11    12  6.735291"
      ]
     },
     "execution_count": 105,
     "metadata": {},
     "output_type": "execute_result"
    }
   ],
   "source": [
    "monthly_average = compute_monthly_average(output_dir)\n",
    "monthly_average"
   ]
  },
  {
   "cell_type": "code",
   "execution_count": 106,
   "id": "8d9c9a1f-e248-429a-b169-d0b81dd71b38",
   "metadata": {},
   "outputs": [
    {
     "name": "stdout",
     "output_type": "stream",
     "text": [
      "hour\n",
      "0.0      90\n",
      "1.0      22\n",
      "2.0      40\n",
      "3.0      26\n",
      "4.0      54\n",
      "5.0      61\n",
      "6.0     256\n",
      "7.0     341\n",
      "8.0     589\n",
      "9.0     533\n",
      "10.0    767\n",
      "11.0    472\n",
      "12.0    581\n",
      "13.0    300\n",
      "14.0    315\n",
      "15.0    169\n",
      "16.0    186\n",
      "17.0    124\n",
      "18.0    142\n",
      "19.0     95\n",
      "20.0    108\n",
      "21.0    102\n",
      "22.0     73\n",
      "23.0     64\n",
      "Name: rr, dtype: int64\n"
     ]
    }
   ],
   "source": [
    "# Convert 'date' column to datetime format if not already in datetime format\n",
    "extreme_events['date'] = pd.to_datetime(extreme_events['date'])\n",
    "\n",
    "# Round the datetime to the nearest hour\n",
    "extreme_events['rounded_hour'] = extreme_events['date'].dt.round('h')\n",
    "\n",
    "# Extract the hour from the rounded datetime\n",
    "extreme_events['hour'] = extreme_events['rounded_hour'].dt.hour\n",
    "\n",
    "# Count the number of extreme precipitation events (rr) for each hour across 24 hours\n",
    "hourly_event_count = extreme_events.groupby('hour')['rr'].count()\n",
    "\n",
    "# Display the event count for each hour\n",
    "print(hourly_event_count)"
   ]
  },
  {
   "cell_type": "markdown",
   "id": "1b041023-eab8-4976-b0ad-18268922c852",
   "metadata": {
    "tags": []
   },
   "source": [
    "# Plots"
   ]
  },
  {
   "cell_type": "code",
   "execution_count": 107,
   "id": "ba5fdcc6-63b8-4efc-91ba-b2b4a7b5ad8e",
   "metadata": {},
   "outputs": [
    {
     "data": {
      "image/png": "[encoded data removed]",
      "text/plain": [
       "<Figure size 800x500 with 2 Axes>"
      ]
     },
     "metadata": {},
     "output_type": "display_data"
    }
   ],
   "source": [
    "# Merge the two DataFrames on 'Month'\n",
    "merged_data = pd.merge(monthly_average, events_per_month, on='Month', how='inner')\n",
    "\n",
    "# Mapping months to their names\n",
    "month_names = ['Jan', 'Feb', 'Mar', 'Apr', 'May', 'Jun', 'Jul', 'Aug', 'Sep', 'Oct', 'Nov', 'Dec']\n",
    "\n",
    "# Replace month numbers with month names\n",
    "merged_data['Month'] = merged_data['Month'].apply(lambda x: month_names[int(x) - 1])\n",
    "\n",
    "# Extract months, rainfall (rr), and event numbers (events_count)\n",
    "months = merged_data['Month'].tolist()\n",
    "rainfall = merged_data['rr'].tolist()  # From monthly_average\n",
    "event_numbers = merged_data['events_count'].tolist()  # From event_per_month\n",
    "\n",
    "# Creating the figure\n",
    "fig, ax1 = plt.subplots(figsize=(8,5))\n",
    "\n",
    "# Plot rainfall data\n",
    "ax1.plot(months, rainfall, label='Monthly Average Precipitation', color='blue')\n",
    "\n",
    "# Creating the secondary y-axis for event numbers\n",
    "ax2 = ax1.twinx()\n",
    "ax2.plot(months, event_numbers, color='red', linestyle='--', label='Number of Events')\n",
    "\n",
    "# Set labels and title\n",
    "ax1.set_xlabel('Month', fontsize=12)\n",
    "ax1.set_ylabel('Monthly Average of Precipitation (mm)', fontsize=12)\n",
    "ax2.set_ylabel('Number of Events', fontsize=12, rotation=270, labelpad=15)\n",
    "\n",
    "# Set x-axis tick size and increase the number of month ticks\n",
    "ax1.tick_params(axis='x', labelsize=12)\n",
    "ax1.xaxis.set_major_locator(MaxNLocator(nbins=12))  # 12 months\n",
    "\n",
    "# Adding legend\n",
    "lines1, labels1 = ax1.get_legend_handles_labels()\n",
    "lines2, labels2 = ax2.get_legend_handles_labels()\n",
    "ax2.legend(lines1 + lines2, labels1 + labels2, loc='upper center', fontsize=12)\n",
    "\n",
    "# Rotate x-axis labels for better readability\n",
    "plt.xticks(rotation=45, fontsize=12)\n",
    "\n",
    "# Show plot\n",
    "fig = plt.gcf()\n",
    "plt.grid()\n",
    "fig.tight_layout(rect=[0.5, 0.5, 1.5, 1.4])\n",
    "plt.show()"
   ]
  },
  {
   "cell_type": "code",
   "execution_count": 108,
   "id": "5d9ac7d9-d1e2-4d22-9b9d-7c4ea7ade5d6",
   "metadata": {},
   "outputs": [
    {
     "data": {
      "image/png": "[encoded data removed]",
      "text/plain": [
       "<Figure size 1000x600 with 1 Axes>"
      ]
     },
     "metadata": {},
     "output_type": "display_data"
    }
   ],
   "source": [
    "# Ensure the data is sorted by hour (just in case)\n",
    "hourly_event_count = hourly_event_count.sort_index()\n",
    "\n",
    "# Plot the data\n",
    "plt.figure(figsize=(10, 6))\n",
    "plt.bar(hourly_event_count.index, hourly_event_count.values, color='skyblue')  # Use values for the y-axis\n",
    "\n",
    "# Set labels and title\n",
    "plt.xlabel('Hour (UTC)', fontsize=14)\n",
    "plt.ylabel('Number of Extreme Events', fontsize=14)\n",
    "#plt.title('Hourly Count of Extreme Events (2015-2023)', fontsize=20)\n",
    "\n",
    "# Adjust x-tick and y-tick sizes\n",
    "plt.xticks(range(24), fontsize=12)\n",
    "plt.yticks(fontsize=12)\n",
    "\n",
    "# Add a grid to the y-axis\n",
    "plt.grid(True, axis='y', linestyle='--', alpha=0.7)\n",
    "\n",
    "# Display the plot\n",
    "plt.tight_layout()\n",
    "plt.show()"
   ]
  },
  {
   "cell_type": "code",
   "execution_count": null,
   "id": "745e3ea2-3a57-4eab-9a97-6a27e01b4646",
   "metadata": {},
   "outputs": [],
   "source": []
  }
 ],
 "metadata": {
  "kernelspec": {
   "display_name": "Python 3 (ipykernel)",
   "language": "python",
   "name": "python3"
  },
  "language_info": {
   "codemirror_mode": {
    "name": "ipython",
    "version": 3
   },
   "file_extension": ".py",
   "mimetype": "text/x-python",
   "name": "python",
   "nbconvert_exporter": "python",
   "pygments_lexer": "ipython3",
   "version": "3.13.2"
  }
 },
 "nbformat": 4,
 "nbformat_minor": 5
}
